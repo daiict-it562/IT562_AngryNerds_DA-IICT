{
 "cells": [
  {
   "cell_type": "code",
   "execution_count": 57,
   "metadata": {},
   "outputs": [],
   "source": [
    "#201711013 - THAKER VANDAN BHARAT\n",
    "import numpy as np\n",
    "import pandas as pd\n",
    "import csv\n",
    "import surprise\n",
    "import time\n",
    "import sklearn.preprocessing as prepro\n",
    "from surprise import SVD\n",
    "from surprise import NormalPredictor\n",
    "from surprise import Dataset\n",
    "from surprise import Reader\n",
    "from surprise.model_selection import cross_validate"
   ]
  },
  {
   "cell_type": "code",
   "execution_count": 58,
   "metadata": {},
   "outputs": [],
   "source": [
    "class MatrixFacto(surprise.AlgoBase):\n",
    "    '''A basic rating prediction algorithm based on matrix factorization.'''\n",
    "    skip_train=0\n",
    "    \n",
    "    def __init__(self, learning_rate, n_epochs, n_factors):\n",
    "        \n",
    "        self.lr = learning_rate  # learning rate for SGD\n",
    "        self.n_epochs = n_epochs  # number of iterations of SGD\n",
    "        self.n_factors = n_factors  # number of factors\n",
    "        \n",
    "    def train(self, trainset):\n",
    "        '''Learn the vectors p_u and q_i with SGD'''\n",
    "        \n",
    "        print('Fitting data with SGD...')\n",
    "        \n",
    "        # Randomly initialize the user and item factors.\n",
    "        p = np.random.normal(0, .1, (trainset.n_users, self.n_factors))\n",
    "        q = np.random.normal(0, .1, (trainset.n_items, self.n_factors))\n",
    "        \n",
    "        # SGD procedure\n",
    "        for _ in range(self.n_epochs):\n",
    "            for u, i, r_ui in trainset.all_ratings():\n",
    "                err = r_ui - np.dot(p[u], q[i])\n",
    "                # Update vectors p_u and q_i\n",
    "                p[u] += self.lr * err * q[i]\n",
    "                q[i] += self.lr * err * p[u]\n",
    "                # Note: in the update of q_i, we should actually use the previous (non-updated) value of p_u.\n",
    "                # In practice it makes almost no difference.\n",
    "        \n",
    "        self.p, self.q = p, q\n",
    "        self.trainset = trainset\n",
    "\n",
    "    def estimate(self, u, i):\n",
    "        '''Return the estmimated rating of user u for item i.'''\n",
    "        \n",
    "        # return scalar product between p_u and q_i if user and item are known,\n",
    "        # else return the average of all ratings\n",
    "        if self.trainset.knows_user(u) and self.trainset.knows_item(i):\n",
    "            return np.dot(self.p[u], self.q[i])\n",
    "        else:\n",
    "            return self.trainset.global_mean"
   ]
  },
  {
   "cell_type": "code",
   "execution_count": 59,
   "metadata": {},
   "outputs": [],
   "source": [
    "time_taken1 = [] #200K\n",
    "time_taken2 = [] #400K\n",
    "time_taken3 = [] #700K\n",
    "time_taken4 = [] #1million"
   ]
  },
  {
   "cell_type": "code",
   "execution_count": 60,
   "metadata": {},
   "outputs": [
    {
     "name": "stderr",
     "output_type": "stream",
     "text": [
      "C:\\Anaconda3\\lib\\site-packages\\surprise\\evaluate.py:66: UserWarning: The evaluate() method is deprecated. Please use model_selection.cross_validate() instead.\n",
      "  'model_selection.cross_validate() instead.', UserWarning)\n",
      "C:\\Anaconda3\\lib\\site-packages\\surprise\\dataset.py:193: UserWarning: Using data.split() or using load_from_folds() without using a CV iterator is now deprecated. \n",
      "  UserWarning)\n"
     ]
    },
    {
     "name": "stdout",
     "output_type": "stream",
     "text": [
      "Evaluating RMSE of algorithm MatrixFacto.\n",
      "\n",
      "------------\n",
      "Fold 1\n",
      "Fitting data with SGD...\n",
      "RMSE: 1.0409\n",
      "------------\n",
      "Fold 2\n",
      "Fitting data with SGD...\n",
      "RMSE: 1.0361\n",
      "------------\n",
      "------------\n",
      "Mean RMSE: 1.0385\n",
      "------------\n",
      "------------\n",
      "--- 23.312889337539673 seconds ---\n"
     ]
    }
   ],
   "source": [
    "#Matrix Facto - 200K\n",
    "start_time1 = time.time()\n",
    "ratings_dataFrame1 = pd.read_csv('ratings - 1_200K.csv', dtype={'rating': float})\n",
    "reader = Reader(rating_scale=(1, 5))\n",
    "# print (ratings_dataFrame1.head(10))\n",
    "data = Dataset.load_from_df(ratings_dataFrame1[['user_id', 'book_id', 'rating']], reader)\n",
    "data.split(2)\n",
    "# cross_validate(NormalPredictor(), data, cv=2)\n",
    "# algo = SVD()\n",
    "# cross_validate(algo, data, measures=['RMSE', 'MAE'], cv=5, verbose=True)\n",
    "# R_df=ratings_dataFrame.pivot(index='user_id', columns='book_id', values='rating').fillna(0)\n",
    "# print(ratings_dataFrame)\n",
    "# ratings_matrix = R_df.as_matrix()\n",
    "# print(ratings_matrix.shape)\n",
    "\n",
    "algo = MatrixFacto(learning_rate=.01, n_epochs=10, n_factors=10)\n",
    "result1 = surprise.evaluate(algo, data, measures=['RMSE'])\n",
    "end_time1 = time.time() - start_time1\n",
    "time_taken1.append(end_time1)\n",
    "print(\"--- %s seconds ---\" % (end_time1))"
   ]
  },
  {
   "cell_type": "code",
   "execution_count": 61,
   "metadata": {},
   "outputs": [
    {
     "name": "stderr",
     "output_type": "stream",
     "text": [
      "C:\\Anaconda3\\lib\\site-packages\\surprise\\evaluate.py:66: UserWarning: The evaluate() method is deprecated. Please use model_selection.cross_validate() instead.\n",
      "  'model_selection.cross_validate() instead.', UserWarning)\n",
      "C:\\Anaconda3\\lib\\site-packages\\surprise\\dataset.py:193: UserWarning: Using data.split() or using load_from_folds() without using a CV iterator is now deprecated. \n",
      "  UserWarning)\n"
     ]
    },
    {
     "name": "stdout",
     "output_type": "stream",
     "text": [
      "Evaluating RMSE of algorithm SVD.\n",
      "\n",
      "------------\n",
      "Fold 1\n",
      "RMSE: 0.8970\n",
      "------------\n",
      "Fold 2\n",
      "RMSE: 0.8956\n",
      "------------\n",
      "------------\n",
      "Mean RMSE: 0.8963\n",
      "------------\n",
      "------------\n",
      "--- 18.909412145614624 seconds ---\n"
     ]
    }
   ],
   "source": [
    "#SVD - 200K\n",
    "start_time2 = time.time()\n",
    "ratings_dataFrame2 = pd.read_csv('ratings - 1_200K.csv', dtype={'rating': float})\n",
    "reader = Reader(rating_scale=(1, 5))\n",
    "# print (ratings_dataFrame2.head(10))\n",
    "data = Dataset.load_from_df(ratings_dataFrame2[['user_id', 'book_id', 'rating']], reader)\n",
    "data.split(2)\n",
    "algo = surprise.SVD()\n",
    "result2 = surprise.evaluate(algo, data, measures=['RMSE'])\n",
    "end_time2 = time.time() - start_time2\n",
    "time_taken1.append(end_time2)\n",
    "print(\"--- %s seconds ---\" % (end_time2))"
   ]
  },
  {
   "cell_type": "code",
   "execution_count": 62,
   "metadata": {},
   "outputs": [
    {
     "name": "stderr",
     "output_type": "stream",
     "text": [
      "C:\\Anaconda3\\lib\\site-packages\\surprise\\evaluate.py:66: UserWarning: The evaluate() method is deprecated. Please use model_selection.cross_validate() instead.\n",
      "  'model_selection.cross_validate() instead.', UserWarning)\n",
      "C:\\Anaconda3\\lib\\site-packages\\surprise\\dataset.py:193: UserWarning: Using data.split() or using load_from_folds() without using a CV iterator is now deprecated. \n",
      "  UserWarning)\n"
     ]
    },
    {
     "name": "stdout",
     "output_type": "stream",
     "text": [
      "Evaluating RMSE of algorithm KNNBasic.\n",
      "\n",
      "------------\n",
      "Fold 1\n",
      "Computing the msd similarity matrix...\n",
      "Done computing similarity matrix.\n",
      "RMSE: 0.9512\n",
      "------------\n",
      "Fold 2\n",
      "Computing the msd similarity matrix...\n",
      "Done computing similarity matrix.\n",
      "RMSE: 0.9500\n",
      "------------\n",
      "------------\n",
      "Mean RMSE: 0.9506\n",
      "------------\n",
      "------------\n",
      "--- 33.70309114456177 seconds ---\n"
     ]
    }
   ],
   "source": [
    "#K-NN - 200K\n",
    "start_time3 = time.time()\n",
    "ratings_dataFrame3 = pd.read_csv('ratings - 1_200K.csv', dtype={'rating': float})\n",
    "reader = Reader(rating_scale=(1, 5))\n",
    "# print (ratings_dataFrame3.head(10))\n",
    "data = Dataset.load_from_df(ratings_dataFrame3[['user_id', 'book_id', 'rating']], reader)\n",
    "data.split(2)\n",
    "algo = surprise.KNNBasic()\n",
    "result3 = surprise.evaluate(algo, data, measures=['RMSE'])\n",
    "end_time3 = time.time() - start_time3\n",
    "time_taken1.append(end_time3)\n",
    "print(\"--- %s seconds ---\" % (end_time3))"
   ]
  },
  {
   "cell_type": "code",
   "execution_count": 63,
   "metadata": {},
   "outputs": [
    {
     "name": "stderr",
     "output_type": "stream",
     "text": [
      "C:\\Anaconda3\\lib\\site-packages\\surprise\\evaluate.py:66: UserWarning: The evaluate() method is deprecated. Please use model_selection.cross_validate() instead.\n",
      "  'model_selection.cross_validate() instead.', UserWarning)\n",
      "C:\\Anaconda3\\lib\\site-packages\\surprise\\dataset.py:193: UserWarning: Using data.split() or using load_from_folds() without using a CV iterator is now deprecated. \n",
      "  UserWarning)\n"
     ]
    },
    {
     "name": "stdout",
     "output_type": "stream",
     "text": [
      "Evaluating RMSE of algorithm MatrixFacto.\n",
      "\n",
      "------------\n",
      "Fold 1\n",
      "Fitting data with SGD...\n",
      "RMSE: 0.9655\n",
      "------------\n",
      "Fold 2\n",
      "Fitting data with SGD...\n",
      "RMSE: 0.9626\n",
      "------------\n",
      "------------\n",
      "Mean RMSE: 0.9640\n",
      "------------\n",
      "------------\n",
      "--- 47.0447518825531 seconds ---\n"
     ]
    }
   ],
   "source": [
    "#Matrix Facto - 400K\n",
    "start_time4 = time.time()\n",
    "ratings_dataFrame4 = pd.read_csv('ratings - 2_400K.csv', dtype={'rating': float})\n",
    "reader = Reader(rating_scale=(1, 5))\n",
    "#print (ratings_dataFrame4.head(10))\n",
    "data = Dataset.load_from_df(ratings_dataFrame4[['user_id', 'book_id', 'rating']], reader)\n",
    "data.split(2)\n",
    "algo = MatrixFacto(learning_rate=.01, n_epochs=10, n_factors=10)\n",
    "result4 = surprise.evaluate(algo, data, measures=['RMSE'])\n",
    "end_time4 = time.time() - start_time4\n",
    "time_taken2.append(end_time4)\n",
    "print(\"--- %s seconds ---\" % (end_time4))"
   ]
  },
  {
   "cell_type": "code",
   "execution_count": 64,
   "metadata": {},
   "outputs": [
    {
     "name": "stderr",
     "output_type": "stream",
     "text": [
      "C:\\Anaconda3\\lib\\site-packages\\surprise\\evaluate.py:66: UserWarning: The evaluate() method is deprecated. Please use model_selection.cross_validate() instead.\n",
      "  'model_selection.cross_validate() instead.', UserWarning)\n",
      "C:\\Anaconda3\\lib\\site-packages\\surprise\\dataset.py:193: UserWarning: Using data.split() or using load_from_folds() without using a CV iterator is now deprecated. \n",
      "  UserWarning)\n"
     ]
    },
    {
     "name": "stdout",
     "output_type": "stream",
     "text": [
      "Evaluating RMSE of algorithm SVD.\n",
      "\n",
      "------------\n",
      "Fold 1\n",
      "RMSE: 0.8945\n",
      "------------\n",
      "Fold 2\n",
      "RMSE: 0.8931\n",
      "------------\n",
      "------------\n",
      "Mean RMSE: 0.8938\n",
      "------------\n",
      "------------\n",
      "--- 37.592427015304565 seconds ---\n"
     ]
    }
   ],
   "source": [
    "#SVD - 400K\n",
    "start_time5 = time.time()\n",
    "ratings_dataFrame5 = pd.read_csv('ratings - 2_400K.csv', dtype={'rating': float})\n",
    "reader = Reader(rating_scale=(1, 5))\n",
    "# print (ratings_dataFrame5.head(10))\n",
    "data = Dataset.load_from_df(ratings_dataFrame5[['user_id', 'book_id', 'rating']], reader)\n",
    "data.split(2)\n",
    "algo = surprise.SVD()\n",
    "result5 = surprise.evaluate(algo, data, measures=['RMSE'])\n",
    "end_time5 = time.time() - start_time5\n",
    "time_taken2.append(end_time5)\n",
    "print(\"--- %s seconds ---\" % (end_time5))"
   ]
  },
  {
   "cell_type": "code",
   "execution_count": 65,
   "metadata": {},
   "outputs": [
    {
     "name": "stderr",
     "output_type": "stream",
     "text": [
      "C:\\Anaconda3\\lib\\site-packages\\surprise\\evaluate.py:66: UserWarning: The evaluate() method is deprecated. Please use model_selection.cross_validate() instead.\n",
      "  'model_selection.cross_validate() instead.', UserWarning)\n",
      "C:\\Anaconda3\\lib\\site-packages\\surprise\\dataset.py:193: UserWarning: Using data.split() or using load_from_folds() without using a CV iterator is now deprecated. \n",
      "  UserWarning)\n"
     ]
    },
    {
     "name": "stdout",
     "output_type": "stream",
     "text": [
      "Evaluating RMSE of algorithm KNNBasic.\n",
      "\n",
      "------------\n",
      "Fold 1\n",
      "Computing the msd similarity matrix...\n",
      "Done computing similarity matrix.\n",
      "RMSE: 0.9343\n",
      "------------\n",
      "Fold 2\n",
      "Computing the msd similarity matrix...\n",
      "Done computing similarity matrix.\n",
      "RMSE: 0.9352\n",
      "------------\n",
      "------------\n",
      "Mean RMSE: 0.9348\n",
      "------------\n",
      "------------\n",
      "--- 104.50461554527283 seconds ---\n"
     ]
    }
   ],
   "source": [
    "#K-NN - 400K\n",
    "start_time6 = time.time()\n",
    "ratings_dataFrame6 = pd.read_csv('ratings - 2_400K.csv', dtype={'rating': float})\n",
    "reader = Reader(rating_scale=(1, 5))\n",
    "# print (ratings_dataFrame6.head(10))\n",
    "data = Dataset.load_from_df(ratings_dataFrame6[['user_id', 'book_id', 'rating']], reader)\n",
    "data.split(2)\n",
    "algo = surprise.KNNBasic()\n",
    "result6 = surprise.evaluate(algo, data, measures=['RMSE'])\n",
    "end_time6 = time.time() - start_time6\n",
    "time_taken2.append(end_time6)\n",
    "print(\"--- %s seconds ---\" % (end_time6))"
   ]
  },
  {
   "cell_type": "code",
   "execution_count": 66,
   "metadata": {},
   "outputs": [
    {
     "name": "stderr",
     "output_type": "stream",
     "text": [
      "C:\\Anaconda3\\lib\\site-packages\\surprise\\evaluate.py:66: UserWarning: The evaluate() method is deprecated. Please use model_selection.cross_validate() instead.\n",
      "  'model_selection.cross_validate() instead.', UserWarning)\n",
      "C:\\Anaconda3\\lib\\site-packages\\surprise\\dataset.py:193: UserWarning: Using data.split() or using load_from_folds() without using a CV iterator is now deprecated. \n",
      "  UserWarning)\n"
     ]
    },
    {
     "name": "stdout",
     "output_type": "stream",
     "text": [
      "Evaluating RMSE of algorithm MatrixFacto.\n",
      "\n",
      "------------\n",
      "Fold 1\n",
      "Fitting data with SGD...\n",
      "RMSE: 0.9415\n",
      "------------\n",
      "Fold 2\n",
      "Fitting data with SGD...\n",
      "RMSE: 0.9494\n",
      "------------\n",
      "------------\n",
      "Mean RMSE: 0.9454\n",
      "------------\n",
      "------------\n",
      "--- 83.95621871948242 seconds ---\n"
     ]
    }
   ],
   "source": [
    "#Matrix Facto - 700K\n",
    "start_time7 = time.time()\n",
    "ratings_dataFrame7 = pd.read_csv('ratings - 3_700K.csv', dtype={'rating': float})\n",
    "reader = Reader(rating_scale=(1, 5))\n",
    "#print (ratings_dataFrame7.head(10))\n",
    "data = Dataset.load_from_df(ratings_dataFrame7[['user_id', 'book_id', 'rating']], reader)\n",
    "data.split(2)\n",
    "algo = MatrixFacto(learning_rate=.01, n_epochs=10, n_factors=10)\n",
    "result7 = surprise.evaluate(algo, data, measures=['RMSE'])\n",
    "end_time7 = time.time() - start_time7\n",
    "time_taken3.append(end_time7)\n",
    "print(\"--- %s seconds ---\" % (end_time7))"
   ]
  },
  {
   "cell_type": "code",
   "execution_count": 67,
   "metadata": {},
   "outputs": [
    {
     "name": "stderr",
     "output_type": "stream",
     "text": [
      "C:\\Anaconda3\\lib\\site-packages\\surprise\\evaluate.py:66: UserWarning: The evaluate() method is deprecated. Please use model_selection.cross_validate() instead.\n",
      "  'model_selection.cross_validate() instead.', UserWarning)\n",
      "C:\\Anaconda3\\lib\\site-packages\\surprise\\dataset.py:193: UserWarning: Using data.split() or using load_from_folds() without using a CV iterator is now deprecated. \n",
      "  UserWarning)\n"
     ]
    },
    {
     "name": "stdout",
     "output_type": "stream",
     "text": [
      "Evaluating RMSE of algorithm SVD.\n",
      "\n",
      "------------\n",
      "Fold 1\n",
      "RMSE: 0.8974\n",
      "------------\n",
      "Fold 2\n",
      "RMSE: 0.9001\n",
      "------------\n",
      "------------\n",
      "Mean RMSE: 0.8988\n",
      "------------\n",
      "------------\n",
      "--- 65.96540594100952 seconds ---\n"
     ]
    }
   ],
   "source": [
    "#SVD - 700K\n",
    "start_time8 = time.time()\n",
    "ratings_dataFrame8 = pd.read_csv('ratings - 3_700K.csv', dtype={'rating': float})\n",
    "reader = Reader(rating_scale=(1, 5))\n",
    "# print (ratings_dataFrame8.head(10))\n",
    "data = Dataset.load_from_df(ratings_dataFrame8[['user_id', 'book_id', 'rating']], reader)\n",
    "data.split(2)\n",
    "algo = surprise.SVD()\n",
    "result8 = surprise.evaluate(algo, data, measures=['RMSE'])\n",
    "end_time8 = time.time() - start_time8\n",
    "time_taken3.append(end_time8)\n",
    "print(\"--- %s seconds ---\" % (end_time8))"
   ]
  },
  {
   "cell_type": "code",
   "execution_count": 68,
   "metadata": {},
   "outputs": [
    {
     "name": "stderr",
     "output_type": "stream",
     "text": [
      "C:\\Anaconda3\\lib\\site-packages\\surprise\\evaluate.py:66: UserWarning: The evaluate() method is deprecated. Please use model_selection.cross_validate() instead.\n",
      "  'model_selection.cross_validate() instead.', UserWarning)\n",
      "C:\\Anaconda3\\lib\\site-packages\\surprise\\dataset.py:193: UserWarning: Using data.split() or using load_from_folds() without using a CV iterator is now deprecated. \n",
      "  UserWarning)\n"
     ]
    },
    {
     "name": "stdout",
     "output_type": "stream",
     "text": [
      "Evaluating RMSE of algorithm KNNBasic.\n",
      "\n",
      "------------\n",
      "Fold 1\n",
      "Computing the msd similarity matrix...\n",
      "Done computing similarity matrix.\n",
      "RMSE: 0.9352\n",
      "------------\n",
      "Fold 2\n",
      "Computing the msd similarity matrix...\n",
      "Done computing similarity matrix.\n",
      "RMSE: 0.9327\n",
      "------------\n",
      "------------\n",
      "Mean RMSE: 0.9339\n",
      "------------\n",
      "------------\n",
      "--- 107.59205913543701 seconds ---\n"
     ]
    }
   ],
   "source": [
    "#K-NN - 700K\n",
    "start_time9 = time.time()\n",
    "ratings_dataFrame9 = pd.read_csv('ratings - 3_700K.csv', dtype={'rating': float})\n",
    "reader = Reader(rating_scale=(1, 5))\n",
    "# print (ratings_dataFrame9.head(10))\n",
    "data = Dataset.load_from_df(ratings_dataFrame6[['user_id', 'book_id', 'rating']], reader)\n",
    "data.split(2)\n",
    "algo = surprise.KNNBasic()\n",
    "result9 = surprise.evaluate(algo, data, measures=['RMSE'])\n",
    "end_time9 = time.time() - start_time9\n",
    "time_taken3.append(end_time9)\n",
    "print(\"--- %s seconds ---\" % (end_time9))"
   ]
  },
  {
   "cell_type": "code",
   "execution_count": 69,
   "metadata": {},
   "outputs": [
    {
     "name": "stderr",
     "output_type": "stream",
     "text": [
      "C:\\Anaconda3\\lib\\site-packages\\surprise\\evaluate.py:66: UserWarning: The evaluate() method is deprecated. Please use model_selection.cross_validate() instead.\n",
      "  'model_selection.cross_validate() instead.', UserWarning)\n",
      "C:\\Anaconda3\\lib\\site-packages\\surprise\\dataset.py:193: UserWarning: Using data.split() or using load_from_folds() without using a CV iterator is now deprecated. \n",
      "  UserWarning)\n"
     ]
    },
    {
     "name": "stdout",
     "output_type": "stream",
     "text": [
      "Evaluating RMSE of algorithm MatrixFacto.\n",
      "\n",
      "------------\n",
      "Fold 1\n",
      "Fitting data with SGD...\n",
      "RMSE: 0.9338\n",
      "------------\n",
      "Fold 2\n",
      "Fitting data with SGD...\n",
      "RMSE: 0.9317\n",
      "------------\n",
      "------------\n",
      "Mean RMSE: 0.9328\n",
      "------------\n",
      "------------\n",
      "--- 128.79689979553223 seconds ---\n"
     ]
    }
   ],
   "source": [
    "#Matrix Facto - 1million\n",
    "start_time10 = time.time()\n",
    "ratings_dataFrame10 = pd.read_csv('ratings_1million.csv', dtype={'rating': float})\n",
    "reader = Reader(rating_scale=(1, 5))\n",
    "#print (ratings_dataFrame10.head(10))\n",
    "data = Dataset.load_from_df(ratings_dataFrame10[['user_id', 'book_id', 'rating']], reader)\n",
    "data.split(2)\n",
    "algo = MatrixFacto(learning_rate=.01, n_epochs=10, n_factors=10)\n",
    "result10 = surprise.evaluate(algo, data, measures=['RMSE'])\n",
    "end_time10 = time.time() - start_time10\n",
    "time_taken4.append(end_time10)\n",
    "print(\"--- %s seconds ---\" % (end_time10))"
   ]
  },
  {
   "cell_type": "code",
   "execution_count": 70,
   "metadata": {},
   "outputs": [
    {
     "name": "stderr",
     "output_type": "stream",
     "text": [
      "C:\\Anaconda3\\lib\\site-packages\\surprise\\evaluate.py:66: UserWarning: The evaluate() method is deprecated. Please use model_selection.cross_validate() instead.\n",
      "  'model_selection.cross_validate() instead.', UserWarning)\n",
      "C:\\Anaconda3\\lib\\site-packages\\surprise\\dataset.py:193: UserWarning: Using data.split() or using load_from_folds() without using a CV iterator is now deprecated. \n",
      "  UserWarning)\n"
     ]
    },
    {
     "name": "stdout",
     "output_type": "stream",
     "text": [
      "Evaluating RMSE of algorithm SVD.\n",
      "\n",
      "------------\n",
      "Fold 1\n",
      "RMSE: 0.8917\n",
      "------------\n",
      "Fold 2\n",
      "RMSE: 0.8909\n",
      "------------\n",
      "------------\n",
      "Mean RMSE: 0.8913\n",
      "------------\n",
      "------------\n",
      "--- 99.37897658348083 seconds ---\n"
     ]
    }
   ],
   "source": [
    "#SVD - 1million\n",
    "start_time11 = time.time()\n",
    "ratings_dataFrame11 = pd.read_csv('ratings_1million.csv', dtype={'rating': float})\n",
    "reader = Reader(rating_scale=(1, 5))\n",
    "# print (ratings_dataFrame11.head(10))\n",
    "data = Dataset.load_from_df(ratings_dataFrame11[['user_id', 'book_id', 'rating']], reader)\n",
    "data.split(2)\n",
    "algo = surprise.SVD()\n",
    "result11 = surprise.evaluate(algo, data, measures=['RMSE'])\n",
    "end_time11 = time.time() - start_time11\n",
    "time_taken4.append(end_time11)\n",
    "print(\"--- %s seconds ---\" % (end_time11))"
   ]
  },
  {
   "cell_type": "code",
   "execution_count": 71,
   "metadata": {},
   "outputs": [
    {
     "name": "stderr",
     "output_type": "stream",
     "text": [
      "C:\\Anaconda3\\lib\\site-packages\\surprise\\evaluate.py:66: UserWarning: The evaluate() method is deprecated. Please use model_selection.cross_validate() instead.\n",
      "  'model_selection.cross_validate() instead.', UserWarning)\n",
      "C:\\Anaconda3\\lib\\site-packages\\surprise\\dataset.py:193: UserWarning: Using data.split() or using load_from_folds() without using a CV iterator is now deprecated. \n",
      "  UserWarning)\n"
     ]
    },
    {
     "name": "stdout",
     "output_type": "stream",
     "text": [
      "Evaluating RMSE of algorithm KNNBasic.\n",
      "\n",
      "------------\n",
      "Fold 1\n",
      "Computing the msd similarity matrix...\n",
      "Done computing similarity matrix.\n",
      "RMSE: 0.9268\n",
      "------------\n",
      "Fold 2\n",
      "Computing the msd similarity matrix...\n",
      "Done computing similarity matrix.\n",
      "RMSE: 0.9256\n",
      "------------\n",
      "------------\n",
      "Mean RMSE: 0.9262\n",
      "------------\n",
      "------------\n",
      "--- 578.5345304012299 seconds ---\n"
     ]
    }
   ],
   "source": [
    "#K-NN - 1million\n",
    "start_time12 = time.time()\n",
    "ratings_dataFrame12 = pd.read_csv('ratings_1million.csv', dtype={'rating': float})\n",
    "reader = Reader(rating_scale=(1, 5))\n",
    "# print (ratings_dataFrame12.head(10))\n",
    "data = Dataset.load_from_df(ratings_dataFrame12[['user_id', 'book_id', 'rating']], reader)\n",
    "data.split(2)\n",
    "algo = surprise.KNNBasic()\n",
    "result12 = surprise.evaluate(algo, data, measures=['RMSE'])\n",
    "end_time12 = time.time() - start_time12\n",
    "time_taken4.append(end_time12)\n",
    "print(\"--- %s seconds ---\" % (end_time12))"
   ]
  },
  {
   "cell_type": "code",
   "execution_count": 72,
   "metadata": {},
   "outputs": [
    {
     "name": "stdout",
     "output_type": "stream",
     "text": [
      "[23.312889337539673, 18.909412145614624, 33.70309114456177]\n",
      "[47.0447518825531, 37.592427015304565, 104.50461554527283]\n",
      "[83.95621871948242, 65.96540594100952, 107.59205913543701]\n",
      "[128.79689979553223, 99.37897658348083, 578.5345304012299]\n"
     ]
    }
   ],
   "source": [
    "print(time_taken1)\n",
    "print(time_taken2)\n",
    "print(time_taken3)\n",
    "print(time_taken4)"
   ]
  },
  {
   "cell_type": "code",
   "execution_count": 75,
   "metadata": {},
   "outputs": [],
   "source": [
    "import matplotlib.pyplot as plt"
   ]
  },
  {
   "cell_type": "code",
   "execution_count": 101,
   "metadata": {},
   "outputs": [
    {
     "data": {
      "image/png": "[encoded data removed]",
      "text/plain": [
       "<matplotlib.figure.Figure at 0x2c7f6ef7d30>"
      ]
     },
     "metadata": {},
     "output_type": "display_data"
    }
   ],
   "source": [
    "#rmse plot - Matrix Facto\n",
    "y = [len(ratings_dataFrame1),len(ratings_dataFrame4),len(ratings_dataFrame7),len(ratings_dataFrame10)]\n",
    "plt.plot( np.mean(result1['rmse']),y[0],'ro',label='200K')\n",
    "plt.plot( np.mean(result4['rmse']),y[1],'go',label='400K')\n",
    "plt.plot( np.mean(result7['rmse']),y[2],'bo',label='700K')\n",
    "plt.plot( np.mean(result10['rmse']),y[3],'yo',label='1million')\n",
    "legend = plt.legend(loc='upper left',bbox_to_anchor=(1, 1))\n",
    "frame = legend.get_frame()\n",
    "plt.xlabel('RMSE')\n",
    "plt.ylabel('Number of records')\n",
    "plt.title('MatrixFacto RMSE Vs Number of Records')\n",
    "plt.show()"
   ]
  },
  {
   "cell_type": "code",
   "execution_count": 102,
   "metadata": {},
   "outputs": [
    {
     "data": {
      "text/plain": [
       "Text(0.5,1,'MatrixFacto Time Vs Number of Records')"
      ]
     },
     "execution_count": 102,
     "metadata": {},
     "output_type": "execute_result"
    },
    {
     "data": {
      "image/png": "[encoded data removed]",
      "text/plain": [
       "<matplotlib.figure.Figure at 0x2c79aba5828>"
      ]
     },
     "metadata": {},
     "output_type": "display_data"
    }
   ],
   "source": [
    "#time plot - Matrix Facto\n",
    "y = [len(ratings_dataFrame1),len(ratings_dataFrame4),len(ratings_dataFrame7),len(ratings_dataFrame10)]\n",
    "plt.plot( time_taken1[0],y[0],'rs',label='200K')\n",
    "plt.plot( time_taken2[0], y[1],'bs',label='400K')\n",
    "plt.plot( time_taken3[0],y[2],'gs',label='700K')\n",
    "plt.plot( time_taken4[0], y[3],'ys',label='1million')\n",
    "legend = plt.legend(loc='upper left',bbox_to_anchor=(1, 1))\n",
    "frame = legend.get_frame()\n",
    "plt.xlabel('Time(in sec)')\n",
    "plt.ylabel('Number of records')\n",
    "plt.title('MatrixFacto Time Vs Number of Records')"
   ]
  },
  {
   "cell_type": "code",
   "execution_count": 103,
   "metadata": {},
   "outputs": [
    {
     "data": {
      "image/png": "[encoded data removed]",
      "text/plain": [
       "<matplotlib.figure.Figure at 0x2c79aba5320>"
      ]
     },
     "metadata": {},
     "output_type": "display_data"
    }
   ],
   "source": [
    "#rmse plot - SVD\n",
    "y = [len(ratings_dataFrame2),len(ratings_dataFrame5),len(ratings_dataFrame8),len(ratings_dataFrame11)]\n",
    "plt.plot( np.mean(result2['rmse']),y[0],'ro',label='200K')\n",
    "plt.plot( np.mean(result5['rmse']),y[1],'go',label='400K')\n",
    "plt.plot( np.mean(result8['rmse']),y[2],'bo',label='700K')\n",
    "plt.plot( np.mean(result11['rmse']),y[3],'yo',label='1million')\n",
    "legend = plt.legend(loc='upper left',bbox_to_anchor=(1, 1))\n",
    "frame = legend.get_frame()\n",
    "plt.xlabel('RMSE')\n",
    "plt.ylabel('Number of records')\n",
    "plt.title('SVD RMSE Vs Number of Records')\n",
    "plt.show()"
   ]
  },
  {
   "cell_type": "code",
   "execution_count": 104,
   "metadata": {},
   "outputs": [
    {
     "data": {
      "text/plain": [
       "Text(0.5,1,'SVD Time Vs Number of Records')"
      ]
     },
     "execution_count": 104,
     "metadata": {},
     "output_type": "execute_result"
    },
    {
     "data": {
      "image/png": "[encoded data removed]",
      "text/plain": [
       "<matplotlib.figure.Figure at 0x2c79694e668>"
      ]
     },
     "metadata": {},
     "output_type": "display_data"
    }
   ],
   "source": [
    "#time plot - SVD\n",
    "y = [len(ratings_dataFrame2),len(ratings_dataFrame5),len(ratings_dataFrame8),len(ratings_dataFrame11)]\n",
    "plt.plot( time_taken1[1],y[0],'rs',label='200K')\n",
    "plt.plot( time_taken2[1], y[1],'bs',label='400K')\n",
    "plt.plot( time_taken3[1],y[2],'gs',label='700K')\n",
    "plt.plot( time_taken4[1], y[3],'ys',label='1million')\n",
    "legend = plt.legend(loc='upper left',bbox_to_anchor=(1, 1))\n",
    "frame = legend.get_frame()\n",
    "plt.xlabel('Time(in sec)')\n",
    "plt.ylabel('Number of records')\n",
    "plt.title('SVD Time Vs Number of Records')"
   ]
  },
  {
   "cell_type": "code",
   "execution_count": 105,
   "metadata": {},
   "outputs": [
    {
     "data": {
      "image/png": "[encoded data removed]",
      "text/plain": [
       "<matplotlib.figure.Figure at 0x2c78b204d68>"
      ]
     },
     "metadata": {},
     "output_type": "display_data"
    }
   ],
   "source": [
    "#rmse plot - K-NN\n",
    "y = [len(ratings_dataFrame3),len(ratings_dataFrame6),len(ratings_dataFrame9),len(ratings_dataFrame12)]\n",
    "plt.plot( np.mean(result3['rmse']),y[0],'ro',label='200K')\n",
    "plt.plot( np.mean(result6['rmse']),y[1],'go',label='400K')\n",
    "plt.plot( np.mean(result9['rmse']),y[2],'bo',label='700K')\n",
    "plt.plot( np.mean(result12['rmse']),y[3],'yo',label='1million')\n",
    "legend = plt.legend(loc='upper left',bbox_to_anchor=(1, 1))\n",
    "frame = legend.get_frame()\n",
    "plt.xlabel('RMSE')\n",
    "plt.ylabel('Number of records')\n",
    "plt.title('K-NN RMSE Vs Number of Records')\n",
    "plt.show()"
   ]
  },
  {
   "cell_type": "code",
   "execution_count": 106,
   "metadata": {},
   "outputs": [
    {
     "data": {
      "text/plain": [
       "Text(0.5,1,'K-NN Time Vs Number of Records')"
      ]
     },
     "execution_count": 106,
     "metadata": {},
     "output_type": "execute_result"
    },
    {
     "data": {
      "image/png": "[encoded data removed]",
      "text/plain": [
       "<matplotlib.figure.Figure at 0x2c7951c3d68>"
      ]
     },
     "metadata": {},
     "output_type": "display_data"
    }
   ],
   "source": [
    "#time plot - K-NN\n",
    "y = [len(ratings_dataFrame3),len(ratings_dataFrame6),len(ratings_dataFrame9),len(ratings_dataFrame12)]\n",
    "plt.plot( time_taken1[2],y[0],'rs',label='200K')\n",
    "plt.plot( time_taken2[2], y[1],'bs',label='400K')\n",
    "plt.plot( time_taken3[2],y[2],'gs',label='700K')\n",
    "plt.plot( time_taken4[2], y[3],'ys',label='1million')\n",
    "legend = plt.legend(loc='upper left',bbox_to_anchor=(1, 1))\n",
    "frame = legend.get_frame()\n",
    "plt.xlabel('Time(in sec)')\n",
    "plt.ylabel('Number of records')\n",
    "plt.title('K-NN Time Vs Number of Records')"
   ]
  }
 ],
 "metadata": {
  "kernelspec": {
   "display_name": "Python 3",
   "language": "python",
   "name": "python3"
  }
 },
 "nbformat": 4,
 "nbformat_minor": 2
}
