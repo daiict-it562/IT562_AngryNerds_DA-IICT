{
 "cells": [
  {
   "cell_type": "code",
   "execution_count": 53,
   "metadata": {},
   "outputs": [],
   "source": [
    "#201711013 - THAKER VANDAN BHARAT\n",
    "import numpy as np\n",
    "import pandas as pd\n",
    "import csv\n",
    "from sklearn.decomposition import TruncatedSVD\n",
    "from sklearn.utils.extmath import randomized_svd\n",
    "from sklearn.random_projection import sparse_random_matrix"
   ]
  },
  {
   "cell_type": "code",
   "execution_count": 54,
   "metadata": {},
   "outputs": [],
   "source": [
    "#importing data from csv file-->\n",
    "ratings = [i.strip().split(\",\") for i in open('ratings.csv', 'r').readlines()]\n",
    "# print(ratings[0:50]) # print('='*50)\n",
    "\n",
    "#representing as data frame.data frame is a 2-dimensional labeled data structure-->\n",
    "# ratings_dataFrame = pd.DataFrame(ratings, columns = ['user_id', 'book_id', 'rating'], dtype = [('rating',np.float64)]\n",
    "ratings_dataFrame = pd.DataFrame(ratings, columns = ['user_id', 'book_id', 'rating'], dtype = float)\n",
    "# print(ratings_dataFrame[0:50])# print('='*50)\n",
    "\n",
    "#normalizing rating values in data frame(label-location based indexer) b/w 0 and 1 using sklearn.preprocessing-->\n",
    "import sklearn.preprocessing as prepro\n",
    "\n",
    "ratings_dataFrame.loc[:,'rating'] = prepro.minmax_scale(ratings_dataFrame.loc[:,'rating'],feature_range=(0, 1),axis=0, copy=True)\n",
    "# print(ratings_dataFrame[0:100])"
   ]
  },
  {
   "cell_type": "code",
   "execution_count": 58,
   "metadata": {},
   "outputs": [],
   "source": [
    "#using pandas.DataFrame.pivot to create user-item matrix by dimensionality reduction\n",
    "ratings_dataFrame.pivot(index='user_id', columns='book_id', values='rating').fillna(0)\n",
    "ratings_matrix = ratings_dataFrame.as_matrix()\n",
    "rank = matrix_rank(ratings_matrix)"
   ]
  },
  {
   "cell_type": "code",
   "execution_count": 87,
   "metadata": {
    "scrolled": true
   },
   "outputs": [
    {
     "name": "stdout",
     "output_type": "stream",
     "text": [
      "V Transpose\n",
      "[[ 9.84294669e-01  1.76533281e-01  6.84986389e-05]\n",
      " [-1.76533284e-01  9.84294670e-01  3.99398003e-05]]\n",
      "Sigma Matrix\n",
      "[9117604.51734506 2555154.25518748]\n"
     ]
    }
   ],
   "source": [
    "#Truncated SVD\n",
    "svd = TruncatedSVD(n_components=rank-1, n_iter=7)\n",
    "transformedMatrix = svd.fit_transform(ratings_matrix)\n",
    "\n",
    "#decomposed components\n",
    "print(\"V Transpose\")\n",
    "print(svd.components_)  \n",
    "print(\"Sigma Matrix\")\n",
    "print(svd.singular_values_)"
   ]
  }
 ],
 "metadata": {
  "kernelspec": {
   "display_name": "Python 3",
   "language": "python",
   "name": "python3"
  },
  "language_info": {
   "codemirror_mode": {
    "name": "ipython",
    "version": 3
   },
   "file_extension": ".py",
   "mimetype": "text/x-python",
   "name": "python",
   "nbconvert_exporter": "python",
   "pygments_lexer": "ipython3",
   "version": "3.6.4"
  }
 },
 "nbformat": 4,
 "nbformat_minor": 2
}
