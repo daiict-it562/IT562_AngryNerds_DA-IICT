{
 "cells": [
  {
   "cell_type": "code",
   "execution_count": 2,
   "metadata": {},
   "outputs": [],
   "source": [
    "#201711013 - THAKER VANDAN BHARAT\n",
    "import numpy as np\n",
    "import pandas as pd\n",
    "import csv\n",
    "import gensim.models.lsimodel as ls\n",
    "import sklearn.preprocessing as sk\n",
    "import gensim\n",
    "from gensim.corpora import MmCorpus\n",
    "from gensim.test.utils import get_tmpfile\n",
    "from sklearn.decomposition import TruncatedSVD\n",
    "from sklearn.random_projection import sparse_random_matrix\n",
    "from sklearn.utils.extmath import randomized_svd"
   ]
  },
  {
   "cell_type": "code",
   "execution_count": 3,
   "metadata": {},
   "outputs": [],
   "source": [
    "#importing data from csv file-->\n",
    "ratings = [i.strip().split(\",\") for i in open('ratings.csv', 'r').readlines()]\n",
    "# print(ratings[0:50]) # print('='*50)\n",
    "\n",
    "#representing as data frame.data frame is a 2-dimensional labeled data structure-->\n",
    "ratings_dataFrame = pd.DataFrame(ratings, columns = ['user_id', 'book_id', 'rating'], dtype = float)\n",
    "# print(ratings_dataFrame[0:50])# print('='*50)\n",
    "\n",
    "#normalizing rating values in data frame(label-location based indexer) b/w 0 and 1 using sklearn.preprocessing-->\n",
    "import sklearn.preprocessing as prepro\n",
    "\n",
    "ratings_dataFrame.loc[:,'rating'] = prepro.minmax_scale(ratings_dataFrame.loc[:,'rating'],feature_range=(0, 1),axis=0, copy=True)\n",
    "# print(ratings_dataFrame[0:100])"
   ]
  },
  {
   "cell_type": "code",
   "execution_count": 4,
   "metadata": {},
   "outputs": [],
   "source": [
    "ratings_dataFrame.pivot(index='user_id', columns='book_id', values='rating').fillna(0)\n",
    "ratings_matrix = ratings_dataFrame.as_matrix()"
   ]
  },
  {
   "cell_type": "code",
   "execution_count": 6,
   "metadata": {},
   "outputs": [
    {
     "name": "stdout",
     "output_type": "stream",
     "text": [
      "tr\n",
      "<gensim.matutils.Dense2Corpus object at 0x7f6b3dd5c080>\n",
      "Sigma Matrix\n",
      "[9117604.51734504 2555154.25518751]\n",
      "U Matrix\n",
      "[[ 5.10330860e-06 -9.93174996e-05]\n",
      " [ 7.92314426e-05 -1.57194170e-03]\n",
      " [ 5.24998761e-06 -1.00018849e-04]\n",
      " ...\n",
      " [ 8.05714610e-04  4.92578258e-04]\n",
      " [ 8.18261060e-04  2.42956167e-04]\n",
      " [ 8.27399832e-04  6.11326695e-05]]\n",
      "V Transpose\n",
      "[[ 9.84294722e-01  1.76533288e-01]\n",
      " [ 1.76533279e-01 -9.84294684e-01]\n",
      " [ 6.84986409e-05 -3.99398012e-05]]\n"
     ]
    }
   ],
   "source": [
    "if(np.isinf(ratings_matrix).all()==False):\n",
    "    print(\"tr\")\n",
    "Z=gensim.matutils.Dense2Corpus(ratings_matrix, documents_columns=True)\n",
    "print(Z)\n",
    "lsi=ls.LsiModel(Z, num_topics=3)\n",
    "\n",
    "print(\"Sigma Matrix\")\n",
    "print(lsi.projection.s)\n",
    "print(\"U Matrix\")\n",
    "print(lsi.projection.u)\n",
    "print(\"V Transpose\")\n",
    "V = gensim.matutils.corpus2dense(lsi[Z], len(lsi.projection.s)).T / lsi.projection.s\n",
    "print(V)"
   ]
  },
  {
   "cell_type": "code",
   "execution_count": null,
   "metadata": {},
   "outputs": [],
   "source": []
  }
 ],
 "metadata": {
  "kernelspec": {
   "display_name": "Python 3",
   "language": "python",
   "name": "python3"
  },
  "language_info": {
   "codemirror_mode": {
    "name": "ipython",
    "version": 3
   },
   "file_extension": ".py",
   "mimetype": "text/x-python",
   "name": "python",
   "nbconvert_exporter": "python",
   "pygments_lexer": "ipython3",
   "version": "3.6.4"
  }
 },
 "nbformat": 4,
 "nbformat_minor": 2
}
