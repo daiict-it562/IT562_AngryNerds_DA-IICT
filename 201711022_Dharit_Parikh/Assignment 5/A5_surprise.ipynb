{
 "cells": [
  {
   "cell_type": "code",
   "execution_count": 34,
   "metadata": {
    "collapsed": true
   },
   "outputs": [],
   "source": [
    "%matplotlib inline\n",
    "import numpy as np\n",
    "import surprise\n",
    "import time\n",
    "import pandas as pd\n",
    "from surprise import Reader, Dataset, SVD, evaluate\n",
    "import seaborn as sns\n",
    "import matplotlib.cm as cm\n",
    "import matplotlib.pyplot as plt\n",
    "from pylab import *\n",
    "from scipy import stats\n",
    "import matplotlib"
   ]
  },
  {
   "cell_type": "code",
   "execution_count": 19,
   "metadata": {
    "collapsed": true
   },
   "outputs": [],
   "source": [
    "class MatrixFacto(surprise.AlgoBase):\n",
    "    '''A basic rating prediction algorithm based on matrix factorization.'''\n",
    "    skip_train=0\n",
    "    \n",
    "    def __init__(self, learning_rate, n_epochs, n_factors):\n",
    "        \n",
    "        self.lr = learning_rate  # learning rate for SGD\n",
    "        self.n_epochs = n_epochs  # number of iterations of SGD\n",
    "        self.n_factors = n_factors  # number of factors\n",
    "        \n",
    "    def train(self, trainset):\n",
    "        '''Learn the vectors p_u and q_i with SGD'''\n",
    "        \n",
    "        print('Fitting data with SGD...')\n",
    "        \n",
    "        # Randomly initialize the user and item factors.\n",
    "        p = np.random.normal(0, .1, (trainset.n_users, self.n_factors))\n",
    "        q = np.random.normal(0, .1, (trainset.n_items, self.n_factors))\n",
    "        \n",
    "        # SGD procedure\n",
    "        for _ in range(self.n_epochs):\n",
    "            for u, i, r_ui in trainset.all_ratings():\n",
    "                err = r_ui - np.dot(p[u], q[i])\n",
    "                # Update vectors p_u and q_i\n",
    "                p[u] += self.lr * err * q[i]\n",
    "                q[i] += self.lr * err * p[u]\n",
    "                # Note: in the update of q_i, we should actually use the previous (non-updated) value of p_u.\n",
    "                # In practice it makes almost no difference.\n",
    "        \n",
    "        self.p, self.q = p, q\n",
    "        self.trainset = trainset\n",
    "\n",
    "    def estimate(self, u, i):\n",
    "        '''Return the estmimated rating of user u for item i.'''\n",
    "        \n",
    "        # return scalar product between p_u and q_i if user and item are known,\n",
    "        # else return the average of all ratings\n",
    "        if self.trainset.knows_user(u) and self.trainset.knows_item(i):\n",
    "            return np.dot(self.p[u], self.q[i])\n",
    "        else:\n",
    "            return self.trainset.global_mean"
   ]
  },
  {
   "cell_type": "code",
   "execution_count": 40,
   "metadata": {
    "collapsed": true
   },
   "outputs": [],
   "source": [
    "data_size = [250, 500, 750, 1000]\n",
    "time_MF = []\n",
    "time_KNN = []\n",
    "time_SVD = []\n",
    "RMS_MF = []\n",
    "RMS_KNN = []\n",
    "RMS_SVD = []"
   ]
  },
  {
   "cell_type": "code",
   "execution_count": 21,
   "metadata": {
    "collapsed": false
   },
   "outputs": [],
   "source": [
    "ratings_dataFrame = pd.read_csv('ratings.csv', dtype={'rating': float})\n",
    "reader = Reader(rating_scale=(1, 5))\n",
    "data = Dataset.load_from_df(ratings_dataFrame[['user_id', 'book_id', 'rating']], reader)\n",
    "data.split(2)"
   ]
  },
  {
   "cell_type": "code",
   "execution_count": 22,
   "metadata": {
    "collapsed": false
   },
   "outputs": [
    {
     "data": {
      "text/html": [
       "<div>\n",
       "<style>\n",
       "    .dataframe thead tr:only-child th {\n",
       "        text-align: right;\n",
       "    }\n",
       "\n",
       "    .dataframe thead th {\n",
       "        text-align: left;\n",
       "    }\n",
       "\n",
       "    .dataframe tbody tr th {\n",
       "        vertical-align: top;\n",
       "    }\n",
       "</style>\n",
       "<table border=\"1\" class=\"dataframe\">\n",
       "  <thead>\n",
       "    <tr style=\"text-align: right;\">\n",
       "      <th></th>\n",
       "      <th>user_id</th>\n",
       "      <th>book_id</th>\n",
       "      <th>rating</th>\n",
       "    </tr>\n",
       "  </thead>\n",
       "  <tbody>\n",
       "    <tr>\n",
       "      <th>count</th>\n",
       "      <td>5.976479e+06</td>\n",
       "      <td>5.976479e+06</td>\n",
       "      <td>5.976479e+06</td>\n",
       "    </tr>\n",
       "    <tr>\n",
       "      <th>mean</th>\n",
       "      <td>2.622446e+04</td>\n",
       "      <td>2.006477e+03</td>\n",
       "      <td>3.919866e+00</td>\n",
       "    </tr>\n",
       "    <tr>\n",
       "      <th>std</th>\n",
       "      <td>1.541323e+04</td>\n",
       "      <td>2.468499e+03</td>\n",
       "      <td>9.910868e-01</td>\n",
       "    </tr>\n",
       "    <tr>\n",
       "      <th>min</th>\n",
       "      <td>1.000000e+00</td>\n",
       "      <td>1.000000e+00</td>\n",
       "      <td>1.000000e+00</td>\n",
       "    </tr>\n",
       "    <tr>\n",
       "      <th>25%</th>\n",
       "      <td>1.281300e+04</td>\n",
       "      <td>1.980000e+02</td>\n",
       "      <td>3.000000e+00</td>\n",
       "    </tr>\n",
       "    <tr>\n",
       "      <th>50%</th>\n",
       "      <td>2.593800e+04</td>\n",
       "      <td>8.850000e+02</td>\n",
       "      <td>4.000000e+00</td>\n",
       "    </tr>\n",
       "    <tr>\n",
       "      <th>75%</th>\n",
       "      <td>3.950900e+04</td>\n",
       "      <td>2.973000e+03</td>\n",
       "      <td>5.000000e+00</td>\n",
       "    </tr>\n",
       "    <tr>\n",
       "      <th>max</th>\n",
       "      <td>5.342400e+04</td>\n",
       "      <td>1.000000e+04</td>\n",
       "      <td>5.000000e+00</td>\n",
       "    </tr>\n",
       "  </tbody>\n",
       "</table>\n",
       "</div>"
      ],
      "text/plain": [
       "            user_id       book_id        rating\n",
       "count  5.976479e+06  5.976479e+06  5.976479e+06\n",
       "mean   2.622446e+04  2.006477e+03  3.919866e+00\n",
       "std    1.541323e+04  2.468499e+03  9.910868e-01\n",
       "min    1.000000e+00  1.000000e+00  1.000000e+00\n",
       "25%    1.281300e+04  1.980000e+02  3.000000e+00\n",
       "50%    2.593800e+04  8.850000e+02  4.000000e+00\n",
       "75%    3.950900e+04  2.973000e+03  5.000000e+00\n",
       "max    5.342400e+04  1.000000e+04  5.000000e+00"
      ]
     },
     "execution_count": 22,
     "metadata": {},
     "output_type": "execute_result"
    }
   ],
   "source": [
    "ratings_dataFrame.describe()"
   ]
  },
  {
   "cell_type": "code",
   "execution_count": 41,
   "metadata": {
    "collapsed": false
   },
   "outputs": [],
   "source": [
    "def MatFac(dat):\n",
    "    temp = time.time()\n",
    "    algo = MatrixFacto(learning_rate=.01, n_epochs=10, n_factors=10)\n",
    "    res = surprise.evaluate(algo, dat, measures=['RMSE'])\n",
    "    time_MF.append(time.time() - temp)\n",
    "    RMS_MF.append(np.mean(res['rmse']))"
   ]
  },
  {
   "cell_type": "code",
   "execution_count": 42,
   "metadata": {
    "collapsed": false
   },
   "outputs": [],
   "source": [
    "def s_KNN(dat):\n",
    "    temp = time.time()\n",
    "    algo = surprise.KNNBasic()\n",
    "    res = surprise.evaluate(algo, dat, measures=['RMSE'])\n",
    "    time_KNN.append(time.time() - temp)\n",
    "    RMS_KNN.append(np.mean(res['rmse']))"
   ]
  },
  {
   "cell_type": "code",
   "execution_count": 43,
   "metadata": {
    "collapsed": false
   },
   "outputs": [],
   "source": [
    "def s_SVD(dat):\n",
    "    temp = time.time()\n",
    "    algo = surprise.SVD()\n",
    "    res = surprise.evaluate(algo, dat, measures=['RMSE'])\n",
    "    time_SVD.append(time.time() - temp)\n",
    "    RMS_SVD.append(np.mean(res['rmse']))"
   ]
  },
  {
   "cell_type": "code",
   "execution_count": 44,
   "metadata": {
    "collapsed": true
   },
   "outputs": [],
   "source": [
    "def overWatch(data_df):\n",
    "    reader = Reader(rating_scale=(1, 5))\n",
    "    data = Dataset.load_from_df(data_df[['user_id', 'book_id', 'rating']], reader)\n",
    "    data.split(2)\n",
    "    MatFac(data)\n",
    "    s_KNN(data)\n",
    "    s_SVD(data)"
   ]
  },
  {
   "cell_type": "code",
   "execution_count": 45,
   "metadata": {
    "collapsed": false
   },
   "outputs": [
    {
     "name": "stderr",
     "output_type": "stream",
     "text": [
      "C:\\Anaconda3\\lib\\site-packages\\surprise\\evaluate.py:66: UserWarning: The evaluate() method is deprecated. Please use model_selection.cross_validate() instead.\n",
      "  'model_selection.cross_validate() instead.', UserWarning)\n",
      "C:\\Anaconda3\\lib\\site-packages\\surprise\\dataset.py:193: UserWarning: Using data.split() or using load_from_folds() without using a CV iterator is now deprecated. \n",
      "  UserWarning)\n"
     ]
    },
    {
     "name": "stdout",
     "output_type": "stream",
     "text": [
      "Evaluating RMSE of algorithm MatrixFacto.\n",
      "\n",
      "------------\n",
      "Fold 1\n",
      "Fitting data with SGD...\n",
      "RMSE: 1.0089\n",
      "------------\n",
      "Fold 2\n",
      "Fitting data with SGD...\n",
      "RMSE: 1.0051\n",
      "------------\n",
      "------------\n",
      "Mean RMSE: 1.0070\n",
      "------------\n",
      "------------\n",
      "Evaluating RMSE of algorithm KNNBasic.\n",
      "\n",
      "------------\n",
      "Fold 1\n",
      "Computing the msd similarity matrix...\n",
      "Done computing similarity matrix.\n",
      "RMSE: 0.9447\n",
      "------------\n",
      "Fold 2\n",
      "Computing the msd similarity matrix...\n",
      "Done computing similarity matrix.\n",
      "RMSE: 0.9399\n",
      "------------\n",
      "------------\n",
      "Mean RMSE: 0.9423\n",
      "------------\n",
      "------------\n",
      "Evaluating RMSE of algorithm SVD.\n",
      "\n",
      "------------\n",
      "Fold 1\n",
      "RMSE: 0.8945\n",
      "------------\n",
      "Fold 2\n",
      "RMSE: 0.8925\n",
      "------------\n",
      "------------\n",
      "Mean RMSE: 0.8935\n",
      "------------\n",
      "------------\n"
     ]
    }
   ],
   "source": [
    "overWatch(ratings_dataFrame[0:250000])"
   ]
  },
  {
   "cell_type": "code",
   "execution_count": 46,
   "metadata": {
    "collapsed": false
   },
   "outputs": [
    {
     "name": "stderr",
     "output_type": "stream",
     "text": [
      "C:\\Anaconda3\\lib\\site-packages\\surprise\\evaluate.py:66: UserWarning: The evaluate() method is deprecated. Please use model_selection.cross_validate() instead.\n",
      "  'model_selection.cross_validate() instead.', UserWarning)\n",
      "C:\\Anaconda3\\lib\\site-packages\\surprise\\dataset.py:193: UserWarning: Using data.split() or using load_from_folds() without using a CV iterator is now deprecated. \n",
      "  UserWarning)\n"
     ]
    },
    {
     "name": "stdout",
     "output_type": "stream",
     "text": [
      "Evaluating RMSE of algorithm MatrixFacto.\n",
      "\n",
      "------------\n",
      "Fold 1\n",
      "Fitting data with SGD...\n",
      "RMSE: 0.9586\n",
      "------------\n",
      "Fold 2\n",
      "Fitting data with SGD...\n",
      "RMSE: 0.9545\n",
      "------------\n",
      "------------\n",
      "Mean RMSE: 0.9566\n",
      "------------\n",
      "------------\n",
      "Evaluating RMSE of algorithm KNNBasic.\n",
      "\n",
      "------------\n",
      "Fold 1\n",
      "Computing the msd similarity matrix...\n",
      "Done computing similarity matrix.\n",
      "RMSE: 0.9354\n",
      "------------\n",
      "Fold 2\n",
      "Computing the msd similarity matrix...\n",
      "Done computing similarity matrix.\n",
      "RMSE: 0.9355\n",
      "------------\n",
      "------------\n",
      "Mean RMSE: 0.9355\n",
      "------------\n",
      "------------\n",
      "Evaluating RMSE of algorithm SVD.\n",
      "\n",
      "------------\n",
      "Fold 1\n",
      "RMSE: 0.8966\n",
      "------------\n",
      "Fold 2\n",
      "RMSE: 0.8972\n",
      "------------\n",
      "------------\n",
      "Mean RMSE: 0.8969\n",
      "------------\n",
      "------------\n"
     ]
    }
   ],
   "source": [
    "overWatch(ratings_dataFrame[0:500000])"
   ]
  },
  {
   "cell_type": "code",
   "execution_count": 49,
   "metadata": {
    "collapsed": false
   },
   "outputs": [
    {
     "name": "stderr",
     "output_type": "stream",
     "text": [
      "C:\\Anaconda3\\lib\\site-packages\\surprise\\evaluate.py:66: UserWarning: The evaluate() method is deprecated. Please use model_selection.cross_validate() instead.\n",
      "  'model_selection.cross_validate() instead.', UserWarning)\n",
      "C:\\Anaconda3\\lib\\site-packages\\surprise\\dataset.py:193: UserWarning: Using data.split() or using load_from_folds() without using a CV iterator is now deprecated. \n",
      "  UserWarning)\n"
     ]
    },
    {
     "name": "stdout",
     "output_type": "stream",
     "text": [
      "Evaluating RMSE of algorithm MatrixFacto.\n",
      "\n",
      "------------\n",
      "Fold 1\n",
      "Fitting data with SGD...\n",
      "RMSE: 0.9454\n",
      "------------\n",
      "Fold 2\n",
      "Fitting data with SGD...\n",
      "RMSE: 0.9421\n",
      "------------\n",
      "------------\n",
      "Mean RMSE: 0.9438\n",
      "------------\n",
      "------------\n",
      "Evaluating RMSE of algorithm KNNBasic.\n",
      "\n",
      "------------\n",
      "Fold 1\n",
      "Computing the msd similarity matrix...\n",
      "Done computing similarity matrix.\n",
      "RMSE: 0.9338\n",
      "------------\n",
      "Fold 2\n",
      "Computing the msd similarity matrix...\n",
      "Done computing similarity matrix.\n",
      "RMSE: 0.9348\n",
      "------------\n",
      "------------\n",
      "Mean RMSE: 0.9343\n",
      "------------\n",
      "------------\n",
      "Evaluating RMSE of algorithm SVD.\n",
      "\n",
      "------------\n",
      "Fold 1\n",
      "RMSE: 0.8980\n",
      "------------\n",
      "Fold 2\n",
      "RMSE: 0.8982\n",
      "------------\n",
      "------------\n",
      "Mean RMSE: 0.8981\n",
      "------------\n",
      "------------\n"
     ]
    }
   ],
   "source": [
    "overWatch(ratings_dataFrame[0:750000])"
   ]
  },
  {
   "cell_type": "code",
   "execution_count": 50,
   "metadata": {
    "collapsed": false
   },
   "outputs": [
    {
     "name": "stderr",
     "output_type": "stream",
     "text": [
      "C:\\Anaconda3\\lib\\site-packages\\surprise\\evaluate.py:66: UserWarning: The evaluate() method is deprecated. Please use model_selection.cross_validate() instead.\n",
      "  'model_selection.cross_validate() instead.', UserWarning)\n",
      "C:\\Anaconda3\\lib\\site-packages\\surprise\\dataset.py:193: UserWarning: Using data.split() or using load_from_folds() without using a CV iterator is now deprecated. \n",
      "  UserWarning)\n"
     ]
    },
    {
     "name": "stdout",
     "output_type": "stream",
     "text": [
      "Evaluating RMSE of algorithm MatrixFacto.\n",
      "\n",
      "------------\n",
      "Fold 1\n",
      "Fitting data with SGD...\n",
      "RMSE: 0.9323\n",
      "------------\n",
      "Fold 2\n",
      "Fitting data with SGD...\n",
      "RMSE: 0.9368\n",
      "------------\n",
      "------------\n",
      "Mean RMSE: 0.9346\n",
      "------------\n",
      "------------\n",
      "Evaluating RMSE of algorithm KNNBasic.\n",
      "\n",
      "------------\n",
      "Fold 1\n",
      "Computing the msd similarity matrix...\n",
      "Done computing similarity matrix.\n",
      "RMSE: 0.9269\n",
      "------------\n",
      "Fold 2\n",
      "Computing the msd similarity matrix...\n",
      "Done computing similarity matrix.\n",
      "RMSE: 0.9261\n",
      "------------\n",
      "------------\n",
      "Mean RMSE: 0.9265\n",
      "------------\n",
      "------------\n",
      "Evaluating RMSE of algorithm SVD.\n",
      "\n",
      "------------\n",
      "Fold 1\n",
      "RMSE: 0.8925\n",
      "------------\n",
      "Fold 2\n",
      "RMSE: 0.8930\n",
      "------------\n",
      "------------\n",
      "Mean RMSE: 0.8928\n",
      "------------\n",
      "------------\n"
     ]
    }
   ],
   "source": [
    "overWatch(ratings_dataFrame[0:1000000])"
   ]
  },
  {
   "cell_type": "code",
   "execution_count": 65,
   "metadata": {
    "collapsed": false
   },
   "outputs": [
    {
     "data": {
      "text/html": [
       "<div>\n",
       "<style>\n",
       "    .dataframe thead tr:only-child th {\n",
       "        text-align: right;\n",
       "    }\n",
       "\n",
       "    .dataframe thead th {\n",
       "        text-align: left;\n",
       "    }\n",
       "\n",
       "    .dataframe tbody tr th {\n",
       "        vertical-align: top;\n",
       "    }\n",
       "</style>\n",
       "<table border=\"1\" class=\"dataframe\">\n",
       "  <thead>\n",
       "    <tr style=\"text-align: right;\">\n",
       "      <th></th>\n",
       "      <th>dataSize1</th>\n",
       "      <th>dataSize2</th>\n",
       "      <th>dataSize3</th>\n",
       "      <th>rmseKNN</th>\n",
       "      <th>rmseMF</th>\n",
       "      <th>rmseSVD</th>\n",
       "      <th>timeTakenKNN</th>\n",
       "      <th>timeTakenMF</th>\n",
       "      <th>timeTakenSVD</th>\n",
       "    </tr>\n",
       "  </thead>\n",
       "  <tbody>\n",
       "    <tr>\n",
       "      <th>0</th>\n",
       "      <td>250</td>\n",
       "      <td>250</td>\n",
       "      <td>250</td>\n",
       "      <td>0.942305</td>\n",
       "      <td>1.007031</td>\n",
       "      <td>0.893502</td>\n",
       "      <td>73.358741</td>\n",
       "      <td>42.523040</td>\n",
       "      <td>34.752903</td>\n",
       "    </tr>\n",
       "    <tr>\n",
       "      <th>1</th>\n",
       "      <td>500</td>\n",
       "      <td>500</td>\n",
       "      <td>500</td>\n",
       "      <td>0.935454</td>\n",
       "      <td>0.956564</td>\n",
       "      <td>0.896882</td>\n",
       "      <td>217.833789</td>\n",
       "      <td>85.199796</td>\n",
       "      <td>66.114954</td>\n",
       "    </tr>\n",
       "    <tr>\n",
       "      <th>2</th>\n",
       "      <td>750</td>\n",
       "      <td>750</td>\n",
       "      <td>750</td>\n",
       "      <td>0.934269</td>\n",
       "      <td>0.943793</td>\n",
       "      <td>0.898105</td>\n",
       "      <td>452.065259</td>\n",
       "      <td>128.425195</td>\n",
       "      <td>104.222106</td>\n",
       "    </tr>\n",
       "    <tr>\n",
       "      <th>3</th>\n",
       "      <td>1000</td>\n",
       "      <td>1000</td>\n",
       "      <td>1000</td>\n",
       "      <td>0.926498</td>\n",
       "      <td>0.934552</td>\n",
       "      <td>0.892756</td>\n",
       "      <td>824.356540</td>\n",
       "      <td>202.471418</td>\n",
       "      <td>138.622456</td>\n",
       "    </tr>\n",
       "  </tbody>\n",
       "</table>\n",
       "</div>"
      ],
      "text/plain": [
       "   dataSize1  dataSize2  dataSize3   rmseKNN    rmseMF   rmseSVD  \\\n",
       "0        250        250        250  0.942305  1.007031  0.893502   \n",
       "1        500        500        500  0.935454  0.956564  0.896882   \n",
       "2        750        750        750  0.934269  0.943793  0.898105   \n",
       "3       1000       1000       1000  0.926498  0.934552  0.892756   \n",
       "\n",
       "   timeTakenKNN  timeTakenMF  timeTakenSVD  \n",
       "0     73.358741    42.523040     34.752903  \n",
       "1    217.833789    85.199796     66.114954  \n",
       "2    452.065259   128.425195    104.222106  \n",
       "3    824.356540   202.471418    138.622456  "
      ]
     },
     "execution_count": 65,
     "metadata": {},
     "output_type": "execute_result"
    }
   ],
   "source": [
    "a_list = pd.DataFrame(\n",
    "    {'dataSize1': data_size,\n",
    "     'timeTakenMF': time_MF,\n",
    "     'dataSize2': data_size,\n",
    "     'timeTakenKNN': time_KNN,\n",
    "     'dataSize3': data_size,\n",
    "     'timeTakenSVD': time_SVD,\n",
    "     'rmseMF': RMS_MF,\n",
    "     'rmseKNN': RMS_KNN,\n",
    "     'rmseSVD': RMS_SVD\n",
    "    })\n",
    "a_list"
   ]
  },
  {
   "cell_type": "code",
   "execution_count": 68,
   "metadata": {
    "collapsed": true
   },
   "outputs": [],
   "source": [
    "import matplotlib.lines as mlines"
   ]
  },
  {
   "cell_type": "code",
   "execution_count": 77,
   "metadata": {
    "collapsed": false,
    "scrolled": true
   },
   "outputs": [
    {
     "data": {
      "image/png": "[encoded data removed]",
      "text/plain": [
       "<matplotlib.figure.Figure at 0x155dc55ccf8>"
      ]
     },
     "metadata": {},
     "output_type": "display_data"
    }
   ],
   "source": [
    "'''\n",
    "color1 = cm.rainbow(((1*8)+6)**2)\n",
    "sct1 = scatter(a_list['dataSize1'], a_list['timeTakenMF'], c=color1, s=100, linewidths=2, label = \"Matrix Facto\")\n",
    "color2 = cm.rainbow(((0*8)+6)**2)\n",
    "sct2 = scatter(a_list['dataSize2'], a_list['timeTakenKNN'], c=color2, s=100, linewidths=2, label = \"BasicKNN\")\n",
    "color3 = cm.rainbow(((5*8)+6)**2)\n",
    "sct3 = scatter(a_list['dataSize3'], a_list['timeTakenSVD'], c=color3, s=100, linewidths=2, label = \"surpriseSVD\")\n",
    "\n",
    "sct1.set_alpha(0.75)\n",
    "sct2.set_alpha(0.75)\n",
    "sct3.set_alpha(0.75)\n",
    "\n",
    "title(\"Data-size vs Time Taken (Algorithm)\")\n",
    "xlabel('Data-size')\n",
    "ylabel('Time-Taken')\n",
    "legend()\n",
    "show()\n",
    "'''\n",
    "#mf = mlines.Line2D(a_list['dataSize1'], a_list['timeTakenMF'], color='blue', marker='*', linestyle='None', markersize=10, label='Matrix Facto')\n",
    "fig = plt.figure()\n",
    "ax = fig.add_subplot(1,1,1)\n",
    "'''\n",
    "ax.plot(a_list['dataSize1'], a_list['timeTakenMF'], color='red', ls=\"-\", label= \"Matrix Facto\")\n",
    "ax.plot(a_list['dataSize2'], a_list['timeTakenKNN'], color='green', ls=\"--\", label=\"BasicKNN\")\n",
    "ax.plot(a_list['dataSize3'], a_list['timeTakenSVD'], color='blue', ls=\":\", label=\"surpriseSVD\")\n",
    "'''\n",
    "ax.scatter(a_list['dataSize1'], a_list['timeTakenMF'], color='red', marker='o', label= \"Matrix Facto\")\n",
    "ax.scatter(a_list['dataSize2'], a_list['timeTakenKNN'], color='green', marker='^', label=\"BasicKNN\")\n",
    "ax.scatter(a_list['dataSize3'], a_list['timeTakenSVD'], color='blue', marker='*', label=\"surpriseSVD\")\n",
    "\n",
    "ax.legend()\n",
    "plt.show()"
   ]
  },
  {
   "cell_type": "code",
   "execution_count": 78,
   "metadata": {
    "collapsed": false
   },
   "outputs": [
    {
     "data": {
      "image/png": "[encoded data removed]",
      "text/plain": [
       "<matplotlib.figure.Figure at 0x155809514e0>"
      ]
     },
     "metadata": {},
     "output_type": "display_data"
    }
   ],
   "source": [
    "fig = plt.figure()\n",
    "ax = fig.add_subplot(1,1,1)\n",
    "\n",
    "ax.scatter(a_list['dataSize1'], a_list['rmseMF'], color='red', marker='o', label= \"Matrix Facto\")\n",
    "ax.scatter(a_list['dataSize2'], a_list['rmseKNN'], color='green', marker='^', label=\"BasicKNN\")\n",
    "ax.scatter(a_list['dataSize3'], a_list['rmseSVD'], color='blue', marker='*', label=\"surpriseSVD\")\n",
    "\n",
    "ax.legend()\n",
    "plt.show()"
   ]
  },
  {
   "cell_type": "code",
   "execution_count": null,
   "metadata": {
    "collapsed": true
   },
   "outputs": [],
   "source": []
  }
 ],
 "metadata": {
  "kernelspec": {
   "display_name": "Python 3",
   "language": "python",
   "name": "python3"
  },
  "language_info": {
   "codemirror_mode": {
    "name": "ipython",
    "version": 3
   },
   "file_extension": ".py",
   "mimetype": "text/x-python",
   "name": "python",
   "nbconvert_exporter": "python",
   "pygments_lexer": "ipython3",
   "version": "3.5.4"
  }
 },
 "nbformat": 4,
 "nbformat_minor": 0
}
