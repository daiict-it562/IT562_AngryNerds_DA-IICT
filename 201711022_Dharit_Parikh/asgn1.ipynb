{
 "cells": [
  {
   "cell_type": "code",
   "execution_count": 3,
   "metadata": {
    "collapsed": false
   },
   "outputs": [
    {
     "data": {
      "text/plain": [
       "{'_id': '1',\n",
       " '_index': 'test-index',\n",
       " '_primary_term': 2,\n",
       " '_seq_no': 2,\n",
       " '_shards': {'failed': 0, 'successful': 1, 'total': 2},\n",
       " '_type': 'test',\n",
       " '_version': 1,\n",
       " 'result': 'created'}"
      ]
     },
     "execution_count": 3,
     "metadata": {},
     "output_type": "execute_result"
    }
   ],
   "source": [
    "\n",
    "#index some test data\n",
    "#es.index(index='test-index', doc_type='test', id=1, body={'test': 'test'})"
   ]
  },
  {
   "cell_type": "code",
   "execution_count": 4,
   "metadata": {
    "collapsed": false
   },
   "outputs": [
    {
     "data": {
      "text/plain": [
       "{'_id': '1',\n",
       " '_index': 'test-index',\n",
       " '_primary_term': 2,\n",
       " '_seq_no': 3,\n",
       " '_shards': {'failed': 0, 'successful': 1, 'total': 2},\n",
       " '_type': 'test',\n",
       " '_version': 2,\n",
       " 'result': 'deleted'}"
      ]
     },
     "execution_count": 4,
     "metadata": {},
     "output_type": "execute_result"
    }
   ],
   "source": [
    "#es.delete(index='test-index', doc_type='test', id=1)"
   ]
  },
  {
   "cell_type": "code",
   "execution_count": 1,
   "metadata": {
    "collapsed": false
   },
   "outputs": [
    {
     "name": "stdout",
     "output_type": "stream",
     "text": [
      "b'{\\n  \"name\" : \"m1A9AYm\",\\n  \"cluster_name\" : \"elasticsearch\",\\n  \"cluster_uuid\" : \"7KdFMvrYTw-kE857wWNEVw\",\\n  \"version\" : {\\n    \"number\" : \"6.1.2\",\\n    \"build_hash\" : \"5b1fea5\",\\n    \"build_date\" : \"2018-01-10T02:35:59.208Z\",\\n    \"build_snapshot\" : false,\\n    \"lucene_version\" : \"7.1.0\",\\n    \"minimum_wire_compatibility_version\" : \"5.6.0\",\\n    \"minimum_index_compatibility_version\" : \"5.0.0\"\\n  },\\n  \"tagline\" : \"You Know, for Search\"\\n}\\n'\n"
     ]
    }
   ],
   "source": [
    "# make sure ES is up and running\n",
    "import json, csv\n",
    "import os, sys\n",
    "import requests\n",
    "res = requests.get('http://localhost:9200')\n",
    "print(res.content)"
   ]
  },
  {
   "cell_type": "code",
   "execution_count": 2,
   "metadata": {
    "collapsed": true
   },
   "outputs": [],
   "source": [
    "from elasticsearch import Elasticsearch\n",
    "es = Elasticsearch([{'host': 'localhost', 'port': 9200}])"
   ]
  },
  {
   "cell_type": "code",
   "execution_count": 11,
   "metadata": {
    "collapsed": false
   },
   "outputs": [],
   "source": [
    "\"\"\"\n",
    "if not es.indices.exists(index=\"books\"):\n",
    "    es.indices.create(index=\"books\", body=\\\n",
    "    { \n",
    "        \"mappings\":{\n",
    "            \"books\":{\n",
    "                \"properties\":{\n",
    "                \"isbn\":{\"type\":\"keyword\"},\n",
    "                \"title\":{\"type\":\"text\",\"index_options\":\"positions\"},\n",
    "                \"subtitle\":{\"type\":\"text\",\"index_options\":\"positions\"},\n",
    "                \"author\":{\"type\":\"text\"},\n",
    "                \"published\":{\"type\":\"date\"},\n",
    "                \"publisher\":{\"type\":\"text\"},\n",
    "                \"pages\":{\"type\":\"double\"},\n",
    "                \"description\":{\"type\":\"text\"},\n",
    "                \"website\":{\"type\":\"text\"}\n",
    "                }\n",
    "            }\n",
    "        }\n",
    "    })\n",
    "\"\"\"\n",
    "#with open(r'''C:\\Users\\Dharit\\Downloads\\book-data\\books.json''') as json_file:\n",
    "#    json_docs = json.load(json_file)\n",
    "#es.bulk('books', 'book', json_docs)\n",
    "if not es.indices.exists(index=\"books\"):\n",
    "    es.indices.create(index=\"books\", body=\\\n",
    "    { \n",
    "        \"mappings\":{\n",
    "            \"books\":{\n",
    "                \"properties\":{\n",
    "                    \"title\":{\"type\":\"text\"},\n",
    "                    \"author\":{\"type\":\"keyword\"},\n",
    "                    \"genre\":{\"type\":\"keyword\"},\n",
    "                    \"sub-genre\":{\"type\":\"keyword\"},\n",
    "                    \"pages\":{\"type\":\"double\"},\n",
    "                    \"publisher\":{\"type\":\"keyword\"}\n",
    "                }\n",
    "            }\n",
    "        }\n",
    "    })"
   ]
  },
  {
   "cell_type": "code",
   "execution_count": 16,
   "metadata": {
    "collapsed": false
   },
   "outputs": [],
   "source": [
    "with open(r'''C:\\Users\\Dharit\\Downloads\\book-data\\books_new.csv''',encoding=\"utf-8\") as csvfile:\n",
    "    readCSV = csv.DictReader(csvfile)\n",
    "\n",
    "    for row in readCSV:\n",
    "        es.index(index=\"books\", doc_type=\"books\", body=\\\n",
    "        {\n",
    "            \"title\": row['Title'],\n",
    "            \"author\": row['Author'],\n",
    "            \"genre\": row['Genre'],\n",
    "            \"sub-genre\": row['SubGenre'],\n",
    "            \"pages\": row['Height'],\n",
    "            \"publisher\": row['Publisher'],\n",
    "        })"
   ]
  },
  {
   "cell_type": "code",
   "execution_count": 17,
   "metadata": {
    "collapsed": true
   },
   "outputs": [],
   "source": [
    "from pprint import pprint"
   ]
  },
  {
   "cell_type": "code",
   "execution_count": 18,
   "metadata": {
    "collapsed": false
   },
   "outputs": [
    {
     "name": "stdout",
     "output_type": "stream",
     "text": [
      "{'_shards': {'failed': 0, 'skipped': 0, 'successful': 5, 'total': 5},\n",
      " 'hits': {'hits': [{'_id': 'v96sCmEBUiT6g3q6y28E',\n",
      "                    '_index': 'books',\n",
      "                    '_score': 1.0,\n",
      "                    '_source': {'author': 'Said, Edward',\n",
      "                                'genre': 'nonfiction',\n",
      "                                'pages': '197',\n",
      "                                'publisher': 'Penguin',\n",
      "                                'sub-genre': 'history',\n",
      "                                'title': 'Orientalism'},\n",
      "                    '_type': 'books'},\n",
      "                   {'_id': 'w96sCmEBUiT6g3q6zm_0',\n",
      "                    '_index': 'books',\n",
      "                    '_score': 1.0,\n",
      "                    '_source': {'author': 'Shih, Frank',\n",
      "                                'genre': 'tech',\n",
      "                                'pages': '241',\n",
      "                                'publisher': 'CRC',\n",
      "                                'sub-genre': 'signal_processing',\n",
      "                                'title': 'Image Processing & Mathematical '\n",
      "                                         'Morphology'},\n",
      "                    '_type': 'books'},\n",
      "                   {'_id': 'xN6sCmEBUiT6g3q6z2_E',\n",
      "                    '_index': 'books',\n",
      "                    '_score': 1.0,\n",
      "                    '_source': {'author': 'Konnikova, Maria',\n",
      "                                'genre': 'nonfiction',\n",
      "                                'pages': '240',\n",
      "                                'publisher': 'Penguin',\n",
      "                                'sub-genre': 'psychology',\n",
      "                                'title': 'How to Think Like Sherlock Holmes'},\n",
      "                    '_type': 'books'},\n",
      "                   {'_id': 'xd6sCmEBUiT6g3q60W83',\n",
      "                    '_index': 'books',\n",
      "                    '_score': 1.0,\n",
      "                    '_source': {'author': 'Sebastian Gutierrez',\n",
      "                                'genre': 'tech',\n",
      "                                'pages': '230',\n",
      "                                'publisher': 'Apress',\n",
      "                                'sub-genre': 'data_science',\n",
      "                                'title': 'Data Scientists at Work'},\n",
      "                    '_type': 'books'},\n",
      "                   {'_id': '9t6sCmEBUiT6g3q692_N',\n",
      "                    '_index': 'books',\n",
      "                    '_score': 1.0,\n",
      "                    '_source': {'author': 'Tanenbaum, Andrew',\n",
      "                                'genre': 'tech',\n",
      "                                'pages': '235',\n",
      "                                'publisher': 'Prentice Hall',\n",
      "                                'sub-genre': 'computer_science',\n",
      "                                'title': 'Data Structures Using C & C++'},\n",
      "                    '_type': 'books'},\n",
      "                   {'_id': '996sCmEBUiT6g3q6-G-O',\n",
      "                    '_index': 'books',\n",
      "                    '_score': 1.0,\n",
      "                    '_source': {'author': 'Forsyth, David',\n",
      "                                'genre': 'tech',\n",
      "                                'pages': '255',\n",
      "                                'publisher': 'Pearson',\n",
      "                                'sub-genre': 'signal_processing',\n",
      "                                'title': 'Computer Vision, A Modern Approach'},\n",
      "                    '_type': 'books'},\n",
      "                   {'_id': '-N6sCmEBUiT6g3q6-W9C',\n",
      "                    '_index': 'books',\n",
      "                    '_score': 1.0,\n",
      "                    '_source': {'author': 'Taub, Schilling',\n",
      "                                'genre': 'tech',\n",
      "                                'pages': '240',\n",
      "                                'publisher': 'TMH',\n",
      "                                'sub-genre': 'signal_processing',\n",
      "                                'title': 'Principles of Communication Systems'},\n",
      "                    '_type': 'books'},\n",
      "                   {'_id': 'x96sCmEBUiT6g3q60m_p',\n",
      "                    '_index': 'books',\n",
      "                    '_score': 1.0,\n",
      "                    '_source': {'author': 'Villani, Cedric',\n",
      "                                'genre': 'science',\n",
      "                                'pages': '234',\n",
      "                                'publisher': 'Bodley Head',\n",
      "                                'sub-genre': 'mathematics',\n",
      "                                'title': 'Birth of a Theorem'},\n",
      "                    '_type': 'books'},\n",
      "                   {'_id': 'yt6sCmEBUiT6g3q61W90',\n",
      "                    '_index': 'books',\n",
      "                    '_score': 1.0,\n",
      "                    '_source': {'author': 'Kafka, Frank',\n",
      "                                'genre': 'fiction',\n",
      "                                'pages': '198',\n",
      "                                'publisher': 'Random House',\n",
      "                                'sub-genre': 'classic',\n",
      "                                'title': 'Trial, The'},\n",
      "                    '_type': 'books'},\n",
      "                   {'_id': 'zN6sCmEBUiT6g3q61m_r',\n",
      "                    '_index': 'books',\n",
      "                    '_score': 1.0,\n",
      "                    '_source': {'author': 'Nisbet, Robert',\n",
      "                                'genre': 'tech',\n",
      "                                'pages': '242',\n",
      "                                'publisher': 'Apress',\n",
      "                                'sub-genre': 'data_science',\n",
      "                                'title': 'Data Mining Handbook'},\n",
      "                    '_type': 'books'}],\n",
      "          'max_score': 1.0,\n",
      "          'total': 211},\n",
      " 'timed_out': False,\n",
      " 'took': 623}\n"
     ]
    }
   ],
   "source": [
    "pprint(es.search(index=\"books\", doc_type=\"books\", body={\"query\":{\"match_all\":{}}}))"
   ]
  },
  {
   "cell_type": "code",
   "execution_count": 24,
   "metadata": {
    "collapsed": false
   },
   "outputs": [
    {
     "name": "stdout",
     "output_type": "stream",
     "text": [
      "{'_shards': {'failed': 0, 'skipped': 0, 'successful': 5, 'total': 5},\n",
      " 'hits': {'hits': [{'_id': 'X96tCmEBUiT6g3q6VHCI',\n",
      "                    '_index': 'books',\n",
      "                    '_score': 6.5509973,\n",
      "                    '_source': {'author': 'Rutherford, Alex',\n",
      "                                'genre': 'nonfiction',\n",
      "                                'pages': '180',\n",
      "                                'publisher': '',\n",
      "                                'sub-genre': 'history',\n",
      "                                'title': \"Empire of the Mughal - The Serpent's \"\n",
      "                                         'Tooth'},\n",
      "                    '_type': 'books'},\n",
      "                   {'_id': 'Xd6tCmEBUiT6g3q6U3C1',\n",
      "                    '_index': 'books',\n",
      "                    '_score': 6.2596846,\n",
      "                    '_source': {'author': 'Rutherford, Alex',\n",
      "                                'genre': 'nonfiction',\n",
      "                                'pages': '180',\n",
      "                                'publisher': '',\n",
      "                                'sub-genre': 'history',\n",
      "                                'title': 'Empire of the Mughal - Brothers at '\n",
      "                                         'War'},\n",
      "                    '_type': 'books'},\n",
      "                   {'_id': 'XN6tCmEBUiT6g3q6U3BL',\n",
      "                    '_index': 'books',\n",
      "                    '_score': 5.0411363,\n",
      "                    '_source': {'author': 'Rutherford, Alex',\n",
      "                                'genre': 'nonfiction',\n",
      "                                'pages': '180',\n",
      "                                'publisher': '',\n",
      "                                'sub-genre': 'history',\n",
      "                                'title': 'Empire of the Mughal - The Tainted '\n",
      "                                         'Throne'},\n",
      "                    '_type': 'books'},\n",
      "                   {'_id': 'Xt6tCmEBUiT6g3q6VHA2',\n",
      "                    '_index': 'books',\n",
      "                    '_score': 5.0411363,\n",
      "                    '_source': {'author': 'Rutherford, Alex',\n",
      "                                'genre': 'nonfiction',\n",
      "                                'pages': '180',\n",
      "                                'publisher': '',\n",
      "                                'sub-genre': 'history',\n",
      "                                'title': 'Empire of the Mughal - Ruler of the '\n",
      "                                         'World'},\n",
      "                    '_type': 'books'},\n",
      "                   {'_id': 'YN6tCmEBUiT6g3q6VXAM',\n",
      "                    '_index': 'books',\n",
      "                    '_score': 5.0411363,\n",
      "                    '_source': {'author': 'Rutherford, Alex',\n",
      "                                'genre': 'nonfiction',\n",
      "                                'pages': '180',\n",
      "                                'publisher': '',\n",
      "                                'sub-genre': 'history',\n",
      "                                'title': 'Empire of the Mughal - Raiders from '\n",
      "                                         'the North'},\n",
      "                    '_type': 'books'}],\n",
      "          'max_score': 6.5509973,\n",
      "          'total': 5},\n",
      " 'timed_out': False,\n",
      " 'took': 286}\n"
     ]
    }
   ],
   "source": [
    "# author with prefix ru\n",
    "pprint(es.search(index=\"books\", doc_type=\"books\", body={\"query\": {\"match\" : { \"author\" : \"Rutherford, Alex\" }}}))"
   ]
  },
  {
   "cell_type": "code",
   "execution_count": null,
   "metadata": {
    "collapsed": true
   },
   "outputs": [],
   "source": []
  }
 ],
 "metadata": {
  "kernelspec": {
   "display_name": "Python 3",
   "language": "python",
   "name": "python3"
  },
  "language_info": {
   "codemirror_mode": {
    "name": "ipython",
    "version": 3
   },
   "file_extension": ".py",
   "mimetype": "text/x-python",
   "name": "python",
   "nbconvert_exporter": "python",
   "pygments_lexer": "ipython3",
   "version": "3.5.4"
  }
 },
 "nbformat": 4,
 "nbformat_minor": 0
}
